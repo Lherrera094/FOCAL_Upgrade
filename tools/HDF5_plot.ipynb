{
 "cells": [
  {
   "cell_type": "code",
   "execution_count": 1,
   "id": "8f7a0b0b-b6b0-45fa-b126-42e95ee42600",
   "metadata": {},
   "outputs": [],
   "source": [
    "import h5py\n",
    "import numpy as np\n",
    "import os.path\n",
    "import plotly.graph_objects as go\n",
    "import plotly.io as pio\n",
    "import os\n",
    "from PIL import Image\n",
    "import imageio.v2 as imageio\n",
    "pio.renderers.default = 'browser'"
   ]
  },
  {
   "cell_type": "markdown",
   "id": "518a3670-5e79-406f-993f-98f3969fc3b6",
   "metadata": {},
   "source": [
    "## Read HDF5 file"
   ]
  },
  {
   "cell_type": "code",
   "execution_count": 2,
   "id": "a05e7591-c351-40f9-988c-e0aae6376225",
   "metadata": {},
   "outputs": [
    {
     "name": "stdout",
     "output_type": "stream",
     "text": [
      "B0x : <class 'h5py._hl.dataset.Dataset'>\n",
      "B0y : <class 'h5py._hl.dataset.Dataset'>\n",
      "B0z : <class 'h5py._hl.dataset.Dataset'>\n",
      "E_abs__tint112 : <class 'h5py._hl.dataset.Dataset'>\n",
      "E_abs__tint128 : <class 'h5py._hl.dataset.Dataset'>\n",
      "E_abs__tint144 : <class 'h5py._hl.dataset.Dataset'>\n",
      "E_abs__tint16 : <class 'h5py._hl.dataset.Dataset'>\n",
      "E_abs__tint160 : <class 'h5py._hl.dataset.Dataset'>\n",
      "E_abs__tint176 : <class 'h5py._hl.dataset.Dataset'>\n",
      "E_abs__tint192 : <class 'h5py._hl.dataset.Dataset'>\n",
      "E_abs__tint208 : <class 'h5py._hl.dataset.Dataset'>\n",
      "E_abs__tint224 : <class 'h5py._hl.dataset.Dataset'>\n",
      "E_abs__tint240 : <class 'h5py._hl.dataset.Dataset'>\n",
      "E_abs__tint256 : <class 'h5py._hl.dataset.Dataset'>\n",
      "E_abs__tint272 : <class 'h5py._hl.dataset.Dataset'>\n",
      "E_abs__tint288 : <class 'h5py._hl.dataset.Dataset'>\n",
      "E_abs__tint304 : <class 'h5py._hl.dataset.Dataset'>\n",
      "E_abs__tint32 : <class 'h5py._hl.dataset.Dataset'>\n",
      "E_abs__tint320 : <class 'h5py._hl.dataset.Dataset'>\n",
      "E_abs__tint336 : <class 'h5py._hl.dataset.Dataset'>\n",
      "E_abs__tint352 : <class 'h5py._hl.dataset.Dataset'>\n",
      "E_abs__tint368 : <class 'h5py._hl.dataset.Dataset'>\n",
      "E_abs__tint384 : <class 'h5py._hl.dataset.Dataset'>\n",
      "E_abs__tint400 : <class 'h5py._hl.dataset.Dataset'>\n",
      "E_abs__tint416 : <class 'h5py._hl.dataset.Dataset'>\n",
      "E_abs__tint432 : <class 'h5py._hl.dataset.Dataset'>\n",
      "E_abs__tint448 : <class 'h5py._hl.dataset.Dataset'>\n",
      "E_abs__tint464 : <class 'h5py._hl.dataset.Dataset'>\n",
      "E_abs__tint48 : <class 'h5py._hl.dataset.Dataset'>\n",
      "E_abs__tint480 : <class 'h5py._hl.dataset.Dataset'>\n",
      "E_abs__tint496 : <class 'h5py._hl.dataset.Dataset'>\n",
      "E_abs__tint512 : <class 'h5py._hl.dataset.Dataset'>\n",
      "E_abs__tint528 : <class 'h5py._hl.dataset.Dataset'>\n",
      "E_abs__tint544 : <class 'h5py._hl.dataset.Dataset'>\n",
      "E_abs__tint560 : <class 'h5py._hl.dataset.Dataset'>\n",
      "E_abs__tint576 : <class 'h5py._hl.dataset.Dataset'>\n",
      "E_abs__tint592 : <class 'h5py._hl.dataset.Dataset'>\n",
      "E_abs__tint608 : <class 'h5py._hl.dataset.Dataset'>\n",
      "E_abs__tint624 : <class 'h5py._hl.dataset.Dataset'>\n",
      "E_abs__tint64 : <class 'h5py._hl.dataset.Dataset'>\n",
      "E_abs__tint640 : <class 'h5py._hl.dataset.Dataset'>\n",
      "E_abs__tint656 : <class 'h5py._hl.dataset.Dataset'>\n",
      "E_abs__tint672 : <class 'h5py._hl.dataset.Dataset'>\n",
      "E_abs__tint688 : <class 'h5py._hl.dataset.Dataset'>\n",
      "E_abs__tint704 : <class 'h5py._hl.dataset.Dataset'>\n",
      "E_abs__tint720 : <class 'h5py._hl.dataset.Dataset'>\n",
      "E_abs__tint736 : <class 'h5py._hl.dataset.Dataset'>\n",
      "E_abs__tint752 : <class 'h5py._hl.dataset.Dataset'>\n",
      "E_abs__tint768 : <class 'h5py._hl.dataset.Dataset'>\n",
      "E_abs__tint784 : <class 'h5py._hl.dataset.Dataset'>\n",
      "E_abs__tint80 : <class 'h5py._hl.dataset.Dataset'>\n",
      "E_abs__tint800 : <class 'h5py._hl.dataset.Dataset'>\n",
      "E_abs__tint96 : <class 'h5py._hl.dataset.Dataset'>\n",
      "config : <class 'h5py._hl.group.Group'>\n",
      "detAnt_01 : <class 'h5py._hl.group.Group'>\n",
      "detAnt_02 : <class 'h5py._hl.group.Group'>\n",
      "n_e : <class 'h5py._hl.dataset.Dataset'>\n"
     ]
    }
   ],
   "source": [
    "f = h5py.File(\"fileout.h5\", \"r\")\n",
    "for key in f.keys():\n",
    "    print(key, \":\", type(f[key])) #Names of the root level object names in HDF5 file - can be groups or datasets."
   ]
  },
  {
   "cell_type": "code",
   "execution_count": 3,
   "id": "41562327-b737-4a94-ad87-8ce140789cbf",
   "metadata": {},
   "outputs": [
    {
     "name": "stdout",
     "output_type": "stream",
     "text": [
      "detAnt_ypos : <class 'h5py._hl.dataset.Dataset'>\n",
      "detAnt_zpos : <class 'h5py._hl.dataset.Dataset'>\n",
      "i : <class 'h5py._hl.dataset.Dataset'>\n",
      "rms_E : <class 'h5py._hl.dataset.Dataset'>\n",
      "sum_EE : <class 'h5py._hl.dataset.Dataset'>\n",
      "sum_ExEx : <class 'h5py._hl.dataset.Dataset'>\n",
      "sum_EyEy : <class 'h5py._hl.dataset.Dataset'>\n",
      "sum_EzEz : <class 'h5py._hl.dataset.Dataset'>\n"
     ]
    }
   ],
   "source": [
    "for key in f[\"detAnt_01\"].keys():\n",
    "    print(key, \":\",type(f[\"detAnt_01\"][key])) #Names of the root level object names in HDF5 file - can be groups or datasets."
   ]
  },
  {
   "cell_type": "markdown",
   "id": "9ecce7c2-ee40-4954-99f8-9046b07e5d5d",
   "metadata": {},
   "source": [
    "## Plot data HDF5(2D): Electric field"
   ]
  },
  {
   "cell_type": "markdown",
   "id": "d2def026-8ed2-4d0b-a0b6-01d8ea5518cf",
   "metadata": {},
   "source": [
    "'aggrnyl', 'agsunset', 'algae', 'amp', 'armyrose', 'balance',\n",
    "             'blackbody', 'bluered', 'blues', 'blugrn', 'bluyl', 'brbg',\n",
    "             'brwnyl', 'bugn', 'bupu', 'burg', 'burgyl', 'cividis', 'curl',\n",
    "             'darkmint', 'deep', 'delta', 'dense', 'earth', 'edge', 'electric',\n",
    "             'emrld', 'fall', 'geyser', 'gnbu', 'gray', 'greens', 'greys',\n",
    "             'haline', 'hot', 'hsv', 'ice', 'icefire', 'inferno', 'jet',\n",
    "             'magenta', 'magma', 'matter', 'mint', 'mrybm', 'mygbm', 'oranges',\n",
    "             'orrd', 'oryel', 'oxy', 'peach', 'phase', 'picnic', 'pinkyl',\n",
    "             'piyg', 'plasma', 'plotly3', 'portland', 'prgn', 'pubu', 'pubugn',\n",
    "             'puor', 'purd', 'purp', 'purples', 'purpor', 'rainbow', 'rdbu',\n",
    "             'rdgy', 'rdpu', 'rdylbu', 'rdylgn', 'redor', 'reds', 'solar',\n",
    "             'spectral', 'speed', 'sunset', 'sunsetdark', 'teal', 'tealgrn',\n",
    "             'tealrose', 'tempo', 'temps', 'thermal', 'tropic', 'turbid',\n",
    "             'turbo', 'twilight', 'viridis', 'ylgn', 'ylgnbu', 'ylorbr',\n",
    "             'ylorrd'"
   ]
  },
  {
   "cell_type": "code",
   "execution_count": 17,
   "id": "6c4ccd5f-c858-4628-a598-c6dd6c5e96e4",
   "metadata": {},
   "outputs": [],
   "source": [
    "x_slice = 100\n",
    "output_gif = \"simulation.gif\"\n",
    "images = []\n",
    "\n",
    "for i in range(1,51):\n",
    "    E_field_ds = f[f'E_abs__tint{16*i}'][:]\n",
    "    sliced_data = E_field_ds[x_slice, :, :]\n",
    "\n",
    "    fig = go.Figure( data=go.Heatmap(\n",
    "        z = sliced_data,     # Flattened volume data\n",
    "        colorscale='jet',                 # Choose a colorscale\n",
    "        zmin=0,\n",
    "        zmax=2\n",
    "    ))\n",
    "    \n",
    "    # Update layout\n",
    "    fig.update_layout(\n",
    "        title=f\"Abs(E) = {i}\",\n",
    "        xaxis_title=\"Z\",\n",
    "        yaxis_title=\"Y\",\n",
    "    )\n",
    "    \n",
    "    # Show the plot\n",
    "    #pio.write_image(fig, f\"{folder_path}/E_field(t)={i}\", format=\"png\")\n",
    "    img_bytes = fig.to_image(format=\"png\",width=1600,height=1200)\n",
    "    img = imageio.imread(img_bytes)\n",
    "    images.append(img)\n",
    "    #fig.show()\n",
    "\n",
    "imageio.mimsave(f'{output_gif}', images, duration=200)"
   ]
  },
  {
   "cell_type": "markdown",
   "id": "b22c3a23-7c53-496f-9ea9-397d1df3a251",
   "metadata": {},
   "source": [
    "## Plot data HDF5: Electric Field 3D"
   ]
  },
  {
   "cell_type": "code",
   "execution_count": 4,
   "id": "20d8ef13-e3d5-4f57-8a22-67cfb4306a56",
   "metadata": {},
   "outputs": [],
   "source": [
    "density = f['E_abs__tint00064'][:]\n",
    "density = np.where(density < 0.01, 0, density)"
   ]
  },
  {
   "cell_type": "code",
   "execution_count": 11,
   "id": "e7150ada-4ebb-4af4-93a7-1f2678736fa2",
   "metadata": {},
   "outputs": [
    {
     "name": "stdout",
     "output_type": "stream",
     "text": [
      "Shape: (200, 150, 100)\n",
      "Data Type (dtype): float64\n",
      "Size: 3000000\n"
     ]
    }
   ],
   "source": [
    "print(f\"Shape: {density.shape}\")  # Shape of the dataset (dimensions)\n",
    "print(f\"Data Type (dtype): {density.dtype}\")  # Data type of the elements\n",
    "print(f\"Size: {density.size}\")  # Total number of elements in the dataset"
   ]
  },
  {
   "cell_type": "code",
   "execution_count": 12,
   "id": "976175a3-10fc-41c2-a5aa-68acc68ed28f",
   "metadata": {},
   "outputs": [],
   "source": [
    "# Generate the coordinate grid for the 3D volume (X, Y, Z)\n",
    "x = density.shape[0]\n",
    "y = density.shape[1]\n",
    "z = density.shape[2]\n",
    "X, Y, Z = np.mgrid[ 0:x:x*1j, 0:y:y*1j, 0:z:z*1j ]"
   ]
  },
  {
   "cell_type": "code",
   "execution_count": 13,
   "id": "4a6f84f3-109b-4e85-86e0-45674a19c901",
   "metadata": {},
   "outputs": [],
   "source": [
    "# Create a 3D Volume Plot using Plotly\n",
    "fig = go.Figure(data=go.Volume(\n",
    "    x=X.flatten(),                 # X-coordinates\n",
    "    y=Y.flatten(),                 # Y-coordinates\n",
    "    z=Z.flatten(),                 # Z-coordinates\n",
    "    value = density.flatten(),     # Flattened volume data\n",
    "    isomin=0.01,                    # Minimum value to display\n",
    "    isomax=np.max(density),        # Maximum value to display\n",
    "    opacity=0.2,                   # Adjust opacity (between 0 and 1) for better visualization\n",
    "    surface_count=5,              # Number of volume surfaces to display\n",
    "    colorscale='plasma',           # Choose a colorscale\n",
    "))\n",
    "\n",
    "# Update layout\n",
    "fig.update_layout(scene=dict(\n",
    "    xaxis_title='X Axis',\n",
    "    yaxis_title='Y Axis',\n",
    "    zaxis_title='Z Axis'\n",
    "))\n",
    "\n",
    "# Show the plot\n",
    "pio.write_image(fig, \"\", format=\"png\")\n",
    "fig.show()"
   ]
  },
  {
   "cell_type": "code",
   "execution_count": 4,
   "id": "10b05017-d647-4e28-a221-bf9e2a4db1bf",
   "metadata": {},
   "outputs": [
    {
     "name": "stdout",
     "output_type": "stream",
     "text": [
      "Shape: (200, 150, 100)\n",
      "Data Type (dtype): float64\n",
      "Size: 3000000\n"
     ]
    }
   ],
   "source": [
    "E_field_ds = f['E_abs__tint64'][:]\n",
    "print(f\"Shape: {E_field_ds.shape}\")  # Shape of the dataset (dimensions)\n",
    "print(f\"Data Type (dtype): {E_field_ds.dtype}\")  # Data type of the elements\n",
    "print(f\"Size: {E_field_ds.size}\")  # Total number of elements in the dataset"
   ]
  },
  {
   "cell_type": "markdown",
   "id": "591542c8-6a18-461d-9002-37a6a78667aa",
   "metadata": {},
   "source": [
    "## Magnetic field"
   ]
  },
  {
   "cell_type": "code",
   "execution_count": 16,
   "id": "ef0c1fdc-8a8d-4da6-819e-39cc176f0ea9",
   "metadata": {},
   "outputs": [
    {
     "name": "stdout",
     "output_type": "stream",
     "text": [
      "Shape: (150, 150, 200)\n",
      "Data Type (dtype): float64\n",
      "Size: 4500000\n"
     ]
    }
   ],
   "source": [
    "B_field_ds = E_f['B_abs'][:]\n",
    "print(f\"Shape: {B_field_ds.shape}\")  # Shape of the dataset (dimensions)\n",
    "print(f\"Data Type (dtype): {B_field_ds.dtype}\")  # Data type of the elements\n",
    "print(f\"Size: {B_field_ds.size}\")  # Total number of elements in the dataset"
   ]
  },
  {
   "cell_type": "code",
   "execution_count": 17,
   "id": "a047d95a-c72a-484b-88f6-3a34e14a26eb",
   "metadata": {},
   "outputs": [],
   "source": [
    "# Create a 3D Volume Plot using Plotly\n",
    "fig = go.Figure(data=go.Volume(\n",
    "    x=X.flatten(),                 # X-coordinates\n",
    "    y=Y.flatten(),                 # Y-coordinates\n",
    "    z=Z.flatten(),                 # Z-coordinates\n",
    "    value = B_field_ds.flatten(),     # Flattened volume data\n",
    "    isomin=0.2,                    # Minimum value to display\n",
    "    isomax=np.max(B_field_ds),        # Maximum value to display\n",
    "    opacity=0.3,                   # Adjust opacity (between 0 and 1) for better visualization\n",
    "    surface_count=10,              # Number of volume surfaces to display\n",
    "    colorscale='plasma',           # Choose a colorscale\n",
    "))\n",
    "\n",
    "# Update layout\n",
    "fig.update_layout(scene=dict(\n",
    "    xaxis_title='X Axis',\n",
    "    yaxis_title='Y Axis',\n",
    "    zaxis_title='Z Axis'\n",
    "))\n",
    "\n",
    "# Show the plot\n",
    "fig.show()"
   ]
  },
  {
   "cell_type": "code",
   "execution_count": null,
   "id": "abfa14e8-72ba-4e67-8e63-e3c82c29a30b",
   "metadata": {},
   "outputs": [],
   "source": []
  }
 ],
 "metadata": {
  "kernelspec": {
   "display_name": "Python 3 (ipykernel)",
   "language": "python",
   "name": "python3"
  },
  "language_info": {
   "codemirror_mode": {
    "name": "ipython",
    "version": 3
   },
   "file_extension": ".py",
   "mimetype": "text/x-python",
   "name": "python",
   "nbconvert_exporter": "python",
   "pygments_lexer": "ipython3",
   "version": "3.8.18"
  }
 },
 "nbformat": 4,
 "nbformat_minor": 5
}
